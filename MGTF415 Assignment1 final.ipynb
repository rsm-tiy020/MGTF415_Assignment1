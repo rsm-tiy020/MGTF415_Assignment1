{
 "cells": [
  {
   "cell_type": "code",
   "execution_count": 9,
   "id": "f32d4742",
   "metadata": {},
   "outputs": [],
   "source": [
    "# Q2(a)\n",
    "import pandas as pd\n",
    "import numpy as np\n",
    "import datetime as dt\n",
    "import statsmodels.api as sm\n",
    "import math as math\n",
    "import matplotlib.pyplot as plt\n",
    "df = pd.read_csv('hmda-2016.csv')\n",
    "\n",
    "\n",
    "# Q2(b)\n",
    "dfs = df.sample(frac = 0.8, replace = False, random_state = 1)\n",
    "dfs.columns =  [\"year\", \"id\", \"agency\", \"loanType\", \"propType\", \n",
    "                \"loanPurpose\", \"occupancy\", \"amount\", \"action\",\n",
    "                     \"msa\", \"state\", \"county\", \"tract\", \"appEth\", \n",
    "                     \"appRace1\", \"appSex\", \"income\", \"purchaserType\",\n",
    "                     \"editStatus\", \"tractMSAInc\", \"numOwnerOccUnits\", \n",
    "                     \"num1to4FamUnits\"]\n"
   ]
  },
  {
   "cell_type": "markdown",
   "id": "1cd542b5",
   "metadata": {},
   "source": [
    "Sampling without replacement is important because we could obtain a unique subset of data."
   ]
  },
  {
   "cell_type": "code",
   "execution_count": 10,
   "id": "66b4c4ad",
   "metadata": {},
   "outputs": [],
   "source": [
    "\n",
    "# Q2(c)\n",
    "dfs = dfs[(dfs['editStatus'] == \" \") & (dfs['loanPurpose'] == 1) & \n",
    "          (dfs['msa'] != \"NA\") & (dfs['occupancy'] == 1) & \n",
    "          (dfs['propType'] == 1) & (dfs['income'] != \"NA  \") & \n",
    "          (dfs['income'] != \"NA\")]"
   ]
  },
  {
   "cell_type": "code",
   "execution_count": 11,
   "id": "2ecfebb5",
   "metadata": {},
   "outputs": [],
   "source": [
    "# Q2(d)\n",
    "dfs['denied'] = (dfs['action'] == 3).astype(int)\n",
    "dfs['amount'] = dfs['amount'].astype(float)\n",
    "dfs['income'] = dfs['income'].astype(float)\n",
    "dfs['lti'] = dfs['amount'] / dfs['income']\n",
    "dfs['AAH'] = (dfs['appEth'] == 1).astype(int)|(dfs['appRace1'] == 3).\\\n",
    "    astype(int)"
   ]
  },
  {
   "cell_type": "code",
   "execution_count": 12,
   "id": "96bb51f4",
   "metadata": {},
   "outputs": [
    {
     "name": "stdout",
     "output_type": "stream",
     "text": [
      "Optimization terminated successfully.\n",
      "         Current function value: 0.282519\n",
      "         Iterations 7\n",
      "                         Results: Logit\n",
      "=================================================================\n",
      "Model:              Logit            Method:           MLE       \n",
      "Dependent Variable: y                Pseudo R-squared: 0.003     \n",
      "Date:               2023-10-23 11:00 AIC:              22658.6202\n",
      "No. Observations:   40094            BIC:              22675.8182\n",
      "Df Model:           1                Log-Likelihood:   -11327.   \n",
      "Df Residuals:       40092            LL-Null:          -11365.   \n",
      "Converged:          1.0000           LLR p-value:      3.1634e-18\n",
      "No. Iterations:     7.0000           Scale:            1.0000    \n",
      "-------------------------------------------------------------------\n",
      "          Coef.    Std.Err.      z       P>|z|     [0.025    0.975]\n",
      "-------------------------------------------------------------------\n",
      "const    -2.5857     0.0309   -83.7544   0.0000   -2.6462   -2.5252\n",
      "x1        0.0559     0.0082     6.8607   0.0000    0.0400    0.0719\n",
      "=================================================================\n",
      "\n"
     ]
    }
   ],
   "source": [
    "# Q2(e)\n",
    "x = sm.add_constant(np.array(dfs['lti']))\n",
    "y = np.array(dfs['denied'])\n",
    "resultLogit = sm.Logit(y,x).fit()\n",
    "print(resultLogit.summary2())\n",
    "coefficient = resultLogit.params\n"
   ]
  },
  {
   "cell_type": "markdown",
   "id": "c2129ffb",
   "metadata": {},
   "source": [
    "Beta0 is equal to -2.5857.\n",
    "Beta1 is equal to 0.0559."
   ]
  },
  {
   "cell_type": "code",
   "execution_count": 13,
   "id": "8770c221",
   "metadata": {},
   "outputs": [],
   "source": [
    "predLogit = 1 / (1 + np.exp(-np.sum(x * resultLogit.params, axis = 1)))"
   ]
  },
  {
   "cell_type": "markdown",
   "id": "49b077dc",
   "metadata": {},
   "source": [
    "# Q2(f)\n",
    "The sign of the coefficient on the borrower's loan-to-income ratio(LTI) is positive, which means the higher the LTI is, a higher probablity that the borrower would be denied. For example, low income could lead to a high LTI, therefore, those loan agency has really low probability to approve the applicant with low income, because they have much higher probability to default. The advantage to use an OLS regression to estimate the probability of loan denial is that it is more easily to interpret the results."
   ]
  },
  {
   "cell_type": "code",
   "execution_count": 14,
   "id": "0a137548",
   "metadata": {},
   "outputs": [
    {
     "name": "stdout",
     "output_type": "stream",
     "text": [
      "Optimization terminated successfully.\n",
      "         Current function value: 0.280794\n",
      "         Iterations 7\n",
      "                         Results: Logit\n",
      "=================================================================\n",
      "Model:              Logit            Method:           MLE       \n",
      "Dependent Variable: y                Pseudo R-squared: 0.009     \n",
      "Date:               2023-10-23 11:00 AIC:              22522.3284\n",
      "No. Observations:   40094            BIC:              22548.1253\n",
      "Df Model:           2                Log-Likelihood:   -11258.   \n",
      "Df Residuals:       40091            LL-Null:          -11365.   \n",
      "Converged:          1.0000           LLR p-value:      3.2649e-47\n",
      "No. Iterations:     7.0000           Scale:            1.0000    \n",
      "-------------------------------------------------------------------\n",
      "          Coef.    Std.Err.      z       P>|z|     [0.025    0.975]\n",
      "-------------------------------------------------------------------\n",
      "const    -2.6801     0.0317   -84.5509   0.0000   -2.7422   -2.6179\n",
      "x1        0.0501     0.0079     6.3534   0.0000    0.0347    0.0656\n",
      "x2        0.5105     0.0420    12.1651   0.0000    0.4282    0.5927\n",
      "=================================================================\n",
      "\n"
     ]
    }
   ],
   "source": [
    "#Q2(g)\n",
    "x2 = sm.add_constant(np.transpose(np.array([dfs['lti'],dfs['AAH']])))\n",
    "y = np.array(dfs['denied'])\n",
    "resultLogit2 = sm.Logit(y,x2).fit()\n",
    "print(resultLogit2.summary2())\n",
    "\n"
   ]
  },
  {
   "cell_type": "markdown",
   "id": "88bd5957",
   "metadata": {},
   "source": [
    "Beta0 is equal to -2.6801.\n",
    "Beta1 is equal to 0.0501.\n",
    "Beta2 is equal to 0.5105."
   ]
  },
  {
   "cell_type": "code",
   "execution_count": 15,
   "id": "9c4f9e34",
   "metadata": {},
   "outputs": [],
   "source": [
    "predLogit2 = 1 / (1 + np.exp(-np.sum(x2 * resultLogit2.params, axis = 1)))"
   ]
  },
  {
   "cell_type": "markdown",
   "id": "0cbc6011",
   "metadata": {},
   "source": [
    "# Q2(h)\n",
    "The sign of the coefficient on the borrower's status as African-American or Hispanic is positive, but it cannot provide evidence that lenders practice racial discrimination. Some additional avariables such as the gender or the age of the loan applicant, would be needed to test whether loan officers indeed discriminate against African-American or Hispanic borrowers.\n"
   ]
  },
  {
   "cell_type": "code",
   "execution_count": 16,
   "id": "e332298f",
   "metadata": {},
   "outputs": [
    {
     "data": {
      "image/png": "[encoded data removed]",
      "text/plain": [
       "<Figure size 640x480 with 1 Axes>"
      ]
     },
     "metadata": {},
     "output_type": "display_data"
    },
    {
     "data": {
      "image/png": "[encoded data removed]",
      "text/plain": [
       "<Figure size 640x480 with 1 Axes>"
      ]
     },
     "metadata": {},
     "output_type": "display_data"
    }
   ],
   "source": [
    "# Q2(i)\n",
    "plot = plt.hist(100 / (1 + np.exp(- np.sum(x * resultLogit.params, \n",
    "                                           axis = 1))), bins = 'auto', \n",
    "                range = (0, 20))\n",
    "plt.xlabel(\"Logit Probability of Denial (%)\")\n",
    "plt.savefig(\"logit-denied-LTI.png\")\n",
    "\n",
    "plt.show()\n",
    "\n",
    "plot = plt.hist(100 / (1 + np.exp(- np.sum(x2 * resultLogit2.params, \n",
    "                                           axis = 1))), bins = 'auto', \n",
    "               range = (0, 20))\n",
    "plt.xlabel(\"Logit Probability of Denial, With Race Data (%)\")\n",
    "plt.savefig(\"logit-denied-LTI-minority.png\")\n",
    "\n",
    "plt.show()\n",
    "\n"
   ]
  },
  {
   "cell_type": "markdown",
   "id": "73449694",
   "metadata": {},
   "source": [
    "These two distributions look different because we use different random variables to do the regression. In (e), we only used LTI, but in (g), we used both the LTI and the AAH(the race). The second model provides a more accurate prediction, because it used more factors in to generate the regression model."
   ]
  },
  {
   "cell_type": "markdown",
   "id": "61859464",
   "metadata": {},
   "source": [
    "# Q2(j)\n",
    "For the non-owner-occupied properties, there is another part of income, the rental income, and it would result in a change in the loan-to-income ratio. However, it is hard to collect the rental income, so the ability of the applicants of non-owner-occupied properties to pay the loan is difficult to decide. "
   ]
  }
 ],
 "metadata": {
  "kernelspec": {
   "display_name": "Python 3 (ipykernel)",
   "language": "python",
   "name": "python3"
  },
  "language_info": {
   "codemirror_mode": {
    "name": "ipython",
    "version": 3
   },
   "file_extension": ".py",
   "mimetype": "text/x-python",
   "name": "python",
   "nbconvert_exporter": "python",
   "pygments_lexer": "ipython3",
   "version": "3.11.4"
  }
 },
 "nbformat": 4,
 "nbformat_minor": 5
}
